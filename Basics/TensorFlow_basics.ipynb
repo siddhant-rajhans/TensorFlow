{
 "cells": [
  {
   "cell_type": "markdown",
   "metadata": {},
   "source": [
    "**Welcome to TensorFlow: A Beginner's Guide**\n",
    "\n",
    "**What is TensorFlow?**\n",
    "\n",
    "TensorFlow is a powerful tool that helps us build and use machine learning models. It's like a big library that has many useful functions that we can use to make our lives easier. You can think of it like a toolbox that has many tools that we can use to build and train our models.\n",
    "\n",
    "**Why Use TensorFlow?**\n",
    "\n",
    "Instead of building everything from scratch, we can use TensorFlow to make our lives easier. It has many common machine learning functions that we can use, so we don't have to start from zero.\n",
    "\n",
    "**What We're Going to Cover**\n",
    "\n",
    "TensorFlow is a big topic, but don't worry, we're going to take it one step at a time. We'll cover the basics of TensorFlow, including:\n",
    "\n",
    "* What are tensors and how do we create them?\n",
    "* How do we get information from tensors?\n",
    "* How do we manipulate tensors?\n",
    "* How do tensors work with NumPy?\n",
    "* How do we use a special function called `@tf.function` to make our code faster?\n",
    "* How do we use GPUs with TensorFlow?\n",
    "* Some exercises to try on your own\n",
    "\n",
    "**Important Notes**\n",
    "\n",
    "* Many of the things we'll cover will happen automatically when we build a model, but it's good to know what's going on behind the scenes.\n",
    "* If you see a TensorFlow function that you don't understand, you can always look it up in the documentation. The documentation is like a big manual that explains how everything works. You can find it here:\n",
    "     https://www.tensorflow.org/api_docs/python/ ."
   ]
  },
  {
   "cell_type": "code",
   "execution_count": 8,
   "metadata": {},
   "outputs": [
    {
     "name": "stdout",
     "output_type": "stream",
     "text": [
      "2.16.1\n"
     ]
    }
   ],
   "source": [
    "import tensorflow as tf\n",
    "print(tf.__version__)"
   ]
  },
  {
   "cell_type": "markdown",
   "metadata": {},
   "source": [
    "# Tensors"
   ]
  },
  {
   "cell_type": "markdown",
   "metadata": {},
   "source": [
    "A **tensor** is a mathematical object that represents a multi-dimensional array of numerical values.\n",
    "\n",
    "Think of a tensor like a container that holds a set of values, similar to a matrix or an array. However, tensors can have more than two dimensions, unlike matrices, which are limited to two dimensions.\n",
    "\n",
    "Here's a simple analogy to help you understand tensors:\n",
    "\n",
    "* A scalar is a single value, like a number (e.g., 5).\n",
    "* A vector is a 1-dimensional array of values, like a list of numbers (e.g., [1, 2, 3, 4, 5]).\n",
    "* A matrix is a 2-dimensional array of values, like a table of numbers (e.g., [[1, 2], [3, 4]]).\n",
    "* A tensor is a multi-dimensional array of values, like a cube or a higher-dimensional structure of numbers (e.g., [[[1, 2], [3, 4]], [[5, 6], [7, 8]]]).\n",
    "\n",
    "Tensors are used to represent complex data structures in machine learning and deep learning, such as:\n",
    "\n",
    "* Images: A color image can be represented as a 3-dimensional tensor, with dimensions for height, width, and color channels (e.g., RGB).\n",
    "* Audio: A sound wave can be represented as a 2-dimensional tensor, with dimensions for time and frequency.\n",
    "* Text: A sentence or a document can be represented as a high-dimensional tensor, with dimensions for words, sentences, and semantic meaning.\n",
    "\n",
    "In TensorFlow, tensors are the fundamental data structure used to represent inputs, outputs, and intermediate results of machine learning models. TensorFlow provides various operations and functions to manipulate and transform tensors, which enables the creation of complex machine learning models."
   ]
  },
  {
   "cell_type": "code",
   "execution_count": 2,
   "metadata": {},
   "outputs": [
    {
     "data": {
      "text/plain": [
       "<tf.Tensor: shape=(), dtype=int32, numpy=7>"
      ]
     },
     "execution_count": 2,
     "metadata": {},
     "output_type": "execute_result"
    }
   ],
   "source": [
    "scalar = tf.constant(7)\n",
    "scalar"
   ]
  },
  {
   "cell_type": "code",
   "execution_count": 3,
   "metadata": {},
   "outputs": [
    {
     "data": {
      "text/plain": [
       "0"
      ]
     },
     "execution_count": 3,
     "metadata": {},
     "output_type": "execute_result"
    }
   ],
   "source": [
    "# Cheack the number of dimentions\n",
    "scalar.ndim"
   ]
  },
  {
   "cell_type": "code",
   "execution_count": 4,
   "metadata": {},
   "outputs": [
    {
     "data": {
      "text/plain": [
       "<tf.Tensor: shape=(2,), dtype=int32, numpy=array([10, 10])>"
      ]
     },
     "execution_count": 4,
     "metadata": {},
     "output_type": "execute_result"
    }
   ],
   "source": [
    "# Create a vector\n",
    "vector = tf.constant([10,10])\n",
    "vector"
   ]
  },
  {
   "cell_type": "code",
   "execution_count": 5,
   "metadata": {},
   "outputs": [
    {
     "data": {
      "text/plain": [
       "1"
      ]
     },
     "execution_count": 5,
     "metadata": {},
     "output_type": "execute_result"
    }
   ],
   "source": [
    "# Cheack the number of dimentions\n",
    "vector.ndim"
   ]
  },
  {
   "cell_type": "code",
   "execution_count": 6,
   "metadata": {},
   "outputs": [
    {
     "data": {
      "text/plain": [
       "<tf.Tensor: shape=(2, 2), dtype=int32, numpy=\n",
       "array([[10,  7],\n",
       "       [ 7, 10]])>"
      ]
     },
     "execution_count": 6,
     "metadata": {},
     "output_type": "execute_result"
    }
   ],
   "source": [
    "# Create a matrix\n",
    "matix = tf.constant([[10,7],[7,10]])\n",
    "matix"
   ]
  },
  {
   "cell_type": "code",
   "execution_count": 7,
   "metadata": {},
   "outputs": [
    {
     "data": {
      "text/plain": [
       "2"
      ]
     },
     "execution_count": 7,
     "metadata": {},
     "output_type": "execute_result"
    }
   ],
   "source": [
    "matix.ndim"
   ]
  },
  {
   "cell_type": "code",
   "execution_count": 9,
   "metadata": {},
   "outputs": [
    {
     "data": {
      "text/plain": [
       "<tf.Tensor: shape=(3, 2, 3), dtype=int32, numpy=\n",
       "array([[[ 1,  2,  3],\n",
       "        [ 4,  5,  6]],\n",
       "\n",
       "       [[ 7,  8,  9],\n",
       "        [10, 11, 12]],\n",
       "\n",
       "       [[13, 14, 15],\n",
       "        [16, 17, 18]]])>"
      ]
     },
     "execution_count": 9,
     "metadata": {},
     "output_type": "execute_result"
    }
   ],
   "source": [
    "# How about a tensor? (more than 2 dimensions, although, all of the above items are also technically tensors)\n",
    "tensor = tf.constant([[[1, 2, 3],\n",
    "                       [4, 5, 6]],\n",
    "                      [[7, 8, 9],\n",
    "                       [10, 11, 12]],\n",
    "                      [[13, 14, 15],\n",
    "                       [16, 17, 18]]])\n",
    "tensor"
   ]
  },
  {
   "cell_type": "code",
   "execution_count": 10,
   "metadata": {},
   "outputs": [
    {
     "data": {
      "text/plain": [
       "3"
      ]
     },
     "execution_count": 10,
     "metadata": {},
     "output_type": "execute_result"
    }
   ],
   "source": [
    "tensor.ndim"
   ]
  },
  {
   "cell_type": "markdown",
   "metadata": {},
   "source": [
    "Let's break down an example of a tensor with shape (224, 224, 3, 32):\n",
    "\n",
    "* 224 and 224 are the height and width of an image in pixels.\n",
    "* 3 is the number of color channels (red, green, and blue).\n",
    "* 32 is the batch size, or the number of images processed at once.\n",
    "\n",
    "**Scalars, Vectors, Matrices, and Tensors**\n",
    "\n",
    "These terms are often used to describe tensors with specific numbers of dimensions:\n",
    "\n",
    "* **Scalar**: a single number.\n",
    "* **Vector**: a number with direction.\n",
    "* **Matrix**: a 2-dimensional array of numbers.\n",
    "* **Tensor**: an n-dimensional array of numbers (where n can be any number).\n",
    "\n",
    "Note that the terms \"matrix\" and \"tensor\" are often used interchangeably.\n",
    "\n",
    "From now on, we'll refer to everything as tensors, since we're using TensorFlow.\n",
    "\n",
    "If you want to learn more about the mathematical differences between scalars, vectors, and matrices, check out the [visual algebra post by Math is Fun](https://www.mathsisfun.com/algebra/scalar-vector-matrix.html).\n",
    "\n",
    "![difference between scalar, vector, matrix, tensor](https://raw.githubusercontent.com/mrdbourke/tensorflow-deep-learning/main/images/00-scalar-vector-matrix-tensor.png)"
   ]
  },
  {
   "cell_type": "markdown",
   "metadata": {},
   "source": [
    "**Creating Tensors with `tf.Variable()`**\n",
    "\n",
    "You can create tensors using `tf.Variable()`. This is not usually necessary, as tensors are often created automatically when working with data.\n",
    "\n",
    "**The Difference Between `tf.Variable()` and `tf.constant()`**\n",
    "\n",
    "There are two ways to create tensors: `tf.Variable()` and `tf.constant()`. The main difference is:\n",
    "\n",
    "* **Immutable**: Tensors created with `tf.constant()` cannot be changed. You can only use them to create a new tensor.\n",
    "* **Mutable**: Tensors created with `tf.Variable()` can be changed."
   ]
  },
  {
   "cell_type": "code",
   "execution_count": 12,
   "metadata": {},
   "outputs": [
    {
     "data": {
      "text/plain": [
       "(<tf.Variable 'Variable:0' shape=(2,) dtype=int32, numpy=array([10,  7])>,\n",
       " <tf.Tensor: shape=(2,), dtype=int32, numpy=array([10,  7])>)"
      ]
     },
     "execution_count": 12,
     "metadata": {},
     "output_type": "execute_result"
    }
   ],
   "source": [
    "# Mutable = m , NON-Mutable = nm\n",
    "m = tf.Variable([10,7])\n",
    "nm = tf.constant([10,7])\n",
    "m , nm"
   ]
  },
  {
   "cell_type": "markdown",
   "metadata": {},
   "source": [
    "To change an element of a `tf.Variable()` tensor requires the `assign()` method."
   ]
  },
  {
   "cell_type": "code",
   "execution_count": 13,
   "metadata": {},
   "outputs": [
    {
     "data": {
      "text/plain": [
       "<tf.Variable 'Variable:0' shape=(2,) dtype=int32, numpy=array([1, 7])>"
      ]
     },
     "execution_count": 13,
     "metadata": {},
     "output_type": "execute_result"
    }
   ],
   "source": [
    "# requires the .assign() method\n",
    "m[0].assign(1)\n",
    "m"
   ]
  },
  {
   "cell_type": "code",
   "execution_count": null,
   "metadata": {},
   "outputs": [],
   "source": []
  }
 ],
 "metadata": {
  "kernelspec": {
   "display_name": "MYENV",
   "language": "python",
   "name": "python3"
  },
  "language_info": {
   "codemirror_mode": {
    "name": "ipython",
    "version": 3
   },
   "file_extension": ".py",
   "mimetype": "text/x-python",
   "name": "python",
   "nbconvert_exporter": "python",
   "pygments_lexer": "ipython3",
   "version": "3.12.3"
  }
 },
 "nbformat": 4,
 "nbformat_minor": 2
}
