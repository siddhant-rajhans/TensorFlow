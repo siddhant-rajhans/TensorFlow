{
  "nbformat": 4,
  "nbformat_minor": 0,
  "metadata": {
    "colab": {
      "provenance": [],
      "authorship_tag": "ABX9TyMtCANILiCSySayDwVu5G8v"
    },
    "kernelspec": {
      "name": "python3",
      "display_name": "Python 3"
    },
    "language_info": {
      "name": "python"
    }
  },
  "cells": [
    {
      "cell_type": "markdown",
      "source": [
        "**Neural Network Regression with TensorFlow**\n",
        "\n",
        "**What is Regression?**\n",
        "\n",
        "Regression is a type of problem where we try to predict a number. For example:\n",
        "\n",
        "* Predicting the price of a house based on its features (like the number of rooms and size)\n",
        "* Predicting the location of an object in an image\n",
        "* Predicting the cost of health insurance based on a person's age, sex, and other characteristics\n",
        "\n",
        "In this lesson, we'll learn how to use a type of machine learning called neural networks to solve these kinds of problems.\n",
        "\n",
        "**What We'll Cover**\n",
        "\n",
        "We'll go through the following steps using TensorFlow:\n",
        "\n",
        "* Building a neural network to predict a number\n",
        "* Understanding the shape of our data (inputs and outputs)\n",
        "* Creating a simple dataset to practice with\n",
        "* Training our model to find patterns in the data\n",
        "* Evaluating how well our model is working\n",
        "* Visualizing our results to understand them better\n",
        "* Saving our model so we can use it later\n",
        "\n",
        "Don't worry if these terms are unfamiliar - we'll go through each step together!\n",
        "\n",
        "**How to Get the Most Out of This Lesson**\n",
        "\n",
        "The best way to learn is by doing. Instead of just reading through the code, try writing it yourself in a new notebook. Experiment with different values and see what happens. Don't be afraid to make mistakes - they're an important part of the learning process!"
      ],
      "metadata": {
        "id": "sR-oCPmDj381"
      }
    },
    {
      "cell_type": "code",
      "execution_count": null,
      "metadata": {
        "colab": {
          "base_uri": "https://localhost:8080/"
        },
        "id": "YCJb2lnwjj5J",
        "outputId": "7fab564a-6740-448f-dfd9-53803b40a84c"
      },
      "outputs": [
        {
          "output_type": "stream",
          "name": "stdout",
          "text": [
            "2.15.0\n"
          ]
        }
      ],
      "source": [
        "import tensorflow as tf\n",
        "print(tf.__version__)"
      ]
    },
    {
      "cell_type": "code",
      "source": [
        "import numpy as np\n",
        "import matplotlib.pyplot as plt\n",
        "\n",
        "# Create features\n",
        "x = np.array([-7.0, -4.0, -1.0, 2.0, 5.0, 8.0, 11.0, 14.0])\n",
        "\n",
        "# Create labels\n",
        "y = np.array([3.0, 6.0, 9.0, 12.0, 15.0, 18.0, 21.0, 24.0])\n",
        "\n",
        "# Visualize it\n",
        "plt.scatter(x,y)"
      ],
      "metadata": {
        "colab": {
          "base_uri": "https://localhost:8080/",
          "height": 452
        },
        "id": "QcNtKGaukZfC",
        "outputId": "6709c168-7022-44f2-e27c-1bf9420d6fa8"
      },
      "execution_count": null,
      "outputs": [
        {
          "output_type": "execute_result",
          "data": {
            "text/plain": [
              "<matplotlib.collections.PathCollection at 0x7c0976da01c0>"
            ]
          },
          "metadata": {},
          "execution_count": 4
        },
        {
          "output_type": "display_data",
          "data": {
            "text/plain": [
              "<Figure size 640x480 with 1 Axes>"
            ],
            "image/png": "[encoded data removed]"
          },
          "metadata": {}
        }
      ]
    },
    {
      "cell_type": "code",
      "source": [
        "y ==x+10"
      ],
      "metadata": {
        "colab": {
          "base_uri": "https://localhost:8080/"
        },
        "id": "23ll6FUnl7bT",
        "outputId": "facd762e-16da-4858-801c-39d745fcf5fc"
      },
      "execution_count": null,
      "outputs": [
        {
          "output_type": "execute_result",
          "data": {
            "text/plain": [
              "array([ True,  True,  True,  True,  True,  True,  True,  True])"
            ]
          },
          "metadata": {},
          "execution_count": 5
        }
      ]
    },
    {
      "cell_type": "markdown",
      "source": [
        "**Understanding Input and Output Shapes**\n",
        "\n",
        "When working with neural networks, it's crucial to understand the shapes of your input and output data.\n",
        "\n",
        "**Input Shape**: This refers to the shape of the data that you feed into the model.\n",
        "\n",
        "**Output Shape**: This is the shape of the data that you want the model to produce.\n",
        "\n",
        "These shapes can vary depending on the specific problem you're trying to solve.\n",
        "\n",
        "Neural networks work with numbers, which are typically represented as tensors or arrays. In our previous example, we used NumPy arrays to create data, but we could have also used tensors."
      ],
      "metadata": {
        "id": "TOGeXHWjmwoM"
      }
    },
    {
      "cell_type": "code",
      "source": [
        "# Example input and output shapes of a regression model\n",
        "house_info = tf.constant([\"bedroom\", \"bathroom\", \"garage\"])\n",
        "house_price = tf.constant([939700])\n",
        "house_info, house_price"
      ],
      "metadata": {
        "colab": {
          "base_uri": "https://localhost:8080/"
        },
        "id": "tnHy_Fs5mHZ2",
        "outputId": "a417c7fa-109d-41a6-a4bf-b5f78dc43be0"
      },
      "execution_count": null,
      "outputs": [
        {
          "output_type": "execute_result",
          "data": {
            "text/plain": [
              "(<tf.Tensor: shape=(3,), dtype=string, numpy=array([b'bedroom', b'bathroom', b'garage'], dtype=object)>,\n",
              " <tf.Tensor: shape=(1,), dtype=int32, numpy=array([939700], dtype=int32)>)"
            ]
          },
          "metadata": {},
          "execution_count": 6
        }
      ]
    },
    {
      "cell_type": "code",
      "source": [
        "house_info.shape"
      ],
      "metadata": {
        "colab": {
          "base_uri": "https://localhost:8080/"
        },
        "id": "GXczbPvXnAOC",
        "outputId": "d5971227-742b-4a4b-8393-2023ce2f6e1b"
      },
      "execution_count": null,
      "outputs": [
        {
          "output_type": "execute_result",
          "data": {
            "text/plain": [
              "TensorShape([3])"
            ]
          },
          "metadata": {},
          "execution_count": 7
        }
      ]
    },
    {
      "cell_type": "code",
      "source": [
        "# Take a single example of X\n",
        "input_shape = X[0].shape\n",
        "\n",
        "# Take a single example of y\n",
        "output_shape = y[0].shape\n",
        "\n",
        "input_shape, output_shape # these are both scalars (no shape)"
      ],
      "metadata": {
        "colab": {
          "base_uri": "https://localhost:8080/"
        },
        "id": "BzW9l-_BnJI3",
        "outputId": "2a13f1d0-d120-4fd4-f38f-67b14862b129"
      },
      "execution_count": null,
      "outputs": [
        {
          "output_type": "execute_result",
          "data": {
            "text/plain": [
              "((), ())"
            ]
          },
          "metadata": {},
          "execution_count": 8
        }
      ]
    },
    {
      "cell_type": "markdown",
      "source": [
        "**Wait, What? No Shape?**\n",
        "\n",
        "You might be thinking, \"How can our inputs and outputs not have a shape?\"\n",
        "\n",
        "But that's not exactly what's going on. The thing is, no matter what kind of data we feed into our model, it's always going to be in the form of a tensor.\n",
        "\n",
        "In our case, because we're working with a simple dataset of just two small lists of numbers, our tensors are actually a special type called rank 0 tensors, or scalars."
      ],
      "metadata": {
        "id": "pfFKprgXnqc4"
      }
    },
    {
      "cell_type": "code",
      "source": [
        "# Turn our Numpy array into tensors\n",
        "x = tf.constant(x)\n",
        "y = tf.constant(y)"
      ],
      "metadata": {
        "id": "rkaVg7QVnkw4"
      },
      "execution_count": null,
      "outputs": []
    },
    {
      "cell_type": "markdown",
      "source": [
        "**Building a Neural Network with TensorFlow**\n",
        "\n",
        "Now that we have our data and understand the input and output shapes, let's build a neural network to model it.\n",
        "\n",
        "In TensorFlow, there are three main steps to create and train a model:\n",
        "\n",
        "1. **Create a Model**: Build the layers of a neural network using the Functional or Sequential API, or import a pre-built model (transfer learning).\n",
        "2. **Compile a Model**: Define how to measure the model's performance (loss and metrics) and how to improve it (optimizer).\n",
        "3. **Fit a Model**: Let the model find patterns in the data (how `X` relates to `y`).\n",
        "\n",
        "Let's use the Keras Sequential API to build a model for our regression data and then step through each process.\n",
        "\n",
        "**Important Note:** If you're using TensorFlow 2.7.0 or later, the `fit()` function no longer automatically upscales input data. To fix this, you need to expand the dimension of input data using `tf.expand_dims(input_data, axis=-1)`. In our case, this means using `model.fit(tf.expand_dims(X, axis=-1), y, epochs=5)` instead of `model.fit(X, y, epochs=5)`."
      ],
      "metadata": {
        "id": "C0Nm_ZK-pm2M"
      }
    },
    {
      "cell_type": "code",
      "source": [
        "# Set random seed\n",
        "tf.random.set_seed(42)\n",
        "\n",
        "#1. Create a mdoel using sequential model\n",
        "model = tf.keras.Sequential([\n",
        "          tf.keras.layers.Dense(1)\n",
        "])\n",
        "\n",
        "#2. Compile the model\n",
        "model.compile(loss = tf.keras.losses.mae,\n",
        "              optimizer = tf.keras.optimizers.SGD(),\n",
        "              metrics = tf.keras.metrics.MAE # Or metrics=[\"mae\"]\n",
        "              )\n",
        "#3. Fit the model    tf.expand_dims(X, axis=-1)\n",
        "model.fit(tf.expand_dims(x, axis=-1),y, epochs=5)"
      ],
      "metadata": {
        "id": "8ZgHjJc-oa-p",
        "colab": {
          "base_uri": "https://localhost:8080/"
        },
        "outputId": "ed2e438a-f8ef-473b-9e3b-1160e5fb9faf"
      },
      "execution_count": null,
      "outputs": [
        {
          "output_type": "stream",
          "name": "stdout",
          "text": [
            "Epoch 1/5\n",
            "1/1 [==============================] - 0s 326ms/step - loss: 19.2019 - mean_absolute_error: 19.2019\n",
            "Epoch 2/5\n",
            "1/1 [==============================] - 0s 11ms/step - loss: 18.9206 - mean_absolute_error: 18.9206\n",
            "Epoch 3/5\n",
            "1/1 [==============================] - 0s 13ms/step - loss: 18.6394 - mean_absolute_error: 18.6394\n",
            "Epoch 4/5\n",
            "1/1 [==============================] - 0s 13ms/step - loss: 18.3581 - mean_absolute_error: 18.3581\n",
            "Epoch 5/5\n",
            "1/1 [==============================] - 0s 8ms/step - loss: 18.0769 - mean_absolute_error: 18.0769\n"
          ]
        },
        {
          "output_type": "execute_result",
          "data": {
            "text/plain": [
              "<keras.src.callbacks.History at 0x7c0966480e50>"
            ]
          },
          "metadata": {},
          "execution_count": 22
        }
      ]
    },
    {
      "cell_type": "code",
      "source": [
        "model.predict([17])"
      ],
      "metadata": {
        "colab": {
          "base_uri": "https://localhost:8080/"
        },
        "id": "2zH7wqE0z-Zj",
        "outputId": "40086ea1-ae90-442f-abea-fc6be63b9be1"
      },
      "execution_count": null,
      "outputs": [
        {
          "output_type": "stream",
          "name": "stderr",
          "text": [
            "WARNING:tensorflow:6 out of the last 7 calls to <function Model.make_predict_function.<locals>.predict_function at 0x7c0966089ab0> triggered tf.function retracing. Tracing is expensive and the excessive number of tracings could be due to (1) creating @tf.function repeatedly in a loop, (2) passing tensors with different shapes, (3) passing Python objects instead of tensors. For (1), please define your @tf.function outside of the loop. For (2), @tf.function has reduce_retracing=True option that can avoid unnecessary retracing. For (3), please refer to https://www.tensorflow.org/guide/function#controlling_retracing and https://www.tensorflow.org/api_docs/python/tf/function for  more details.\n"
          ]
        },
        {
          "output_type": "stream",
          "name": "stdout",
          "text": [
            "1/1 [==============================] - 0s 64ms/step\n"
          ]
        },
        {
          "output_type": "execute_result",
          "data": {
            "text/plain": [
              "array([[-16.391722]], dtype=float32)"
            ]
          },
          "metadata": {},
          "execution_count": 23
        }
      ]
    },
    {
      "cell_type": "markdown",
      "source": [
        "## Improving a model\n",
        "\n",
        "How do you think you'd improve upon our current model?\n",
        "\n",
        "If you guessed by tweaking some of the things we did above, you'd be correct.\n",
        "\n",
        "To improve our model, we alter almost every part of the 3 steps we went through before.\n",
        "\n",
        "1. **Creating a model** - here you might want to add more layers, increase the number of hidden units (also called neurons) within each layer, change the activation functions of each layer.\n",
        "2. **Compiling a model** - you might want to choose optimization function or perhaps change the **learning rate** of the optimization function.\n",
        "3. **Fitting a model** - perhaps you could fit a model for more **epochs** (leave it training for longer) or on more data (give the model more examples to learn from).\n",
        "\n",
        "![various options you can use to improve a neural network model](https://raw.githubusercontent.com/mrdbourke/tensorflow-deep-learning/main/images/02-improving-a-model-from-model-perspective.png)\n",
        "*There are many different ways to potentially improve a neural network. Some of the most common include: increasing the number of layers (making the network deeper), increasing the number of hidden units (making the network wider) and changing the learning rate. Because these values are all human-changeable, they're referred to as [hyperparameters](https://en.wikipedia.org/wiki/Hyperparameter_(machine_learning)) and the practice of trying to find the best hyperparameters is referred to as [hyperparameter tuning](https://en.wikipedia.org/wiki/Hyperparameter_optimization).*\n",
        "\n",
        "Woah. We just introduced a bunch of possible steps. The important thing to remember is how you alter each of these will depend on the problem you're working on.\n",
        "\n",
        "And the good thing is, over the next few problems, we'll get hands-on with all of them.\n",
        "\n",
        "For now, let's keep it simple, all we'll do is train our model for longer (everything else will stay the same)."
      ],
      "metadata": {
        "id": "otVjTybM2J6Z"
      }
    },
    {
      "cell_type": "code",
      "source": [
        "# Let's rebuild our model\n",
        "# Set random seed\n",
        "tf.random.set_seed(42)\n",
        "\n",
        "#1. Create a mdoel using sequential model\n",
        "model = tf.keras.Sequential([\n",
        "          tf.keras.layers.Dense(100),\n",
        "          tf.keras.layers.Dense(100),\n",
        "          tf.keras.layers.Dense(1)\n",
        "])\n",
        "\n",
        "#2. Compile the model\n",
        "model.compile(loss = tf.keras.losses.mae,\n",
        "              optimizer = tf.keras.optimizers.Adam(learning_rate= 0.001),\n",
        "              metrics = tf.keras.metrics.MAE # Or metrics=[\"mae\"]\n",
        "              )\n",
        "#3. Fit the model    tf.expand_dims(X, axis=-1)\n",
        "model.fit(tf.expand_dims(x, axis=-1),y, epochs=100)\n"
      ],
      "metadata": {
        "colab": {
          "base_uri": "https://localhost:8080/"
        },
        "id": "HBsNTz251fYg",
        "outputId": "fd7c58f9-cfc6-47a4-d274-5f22fe391f04"
      },
      "execution_count": null,
      "outputs": [
        {
          "output_type": "stream",
          "name": "stdout",
          "text": [
            "Epoch 1/100\n",
            "1/1 [==============================] - 1s 730ms/step - loss: 13.6399 - mean_absolute_error: 13.6399\n",
            "Epoch 2/100\n",
            "1/1 [==============================] - 0s 10ms/step - loss: 13.0323 - mean_absolute_error: 13.0323\n",
            "Epoch 3/100\n",
            "1/1 [==============================] - 0s 11ms/step - loss: 12.4247 - mean_absolute_error: 12.4247\n",
            "Epoch 4/100\n",
            "1/1 [==============================] - 0s 11ms/step - loss: 11.8157 - mean_absolute_error: 11.8157\n",
            "Epoch 5/100\n",
            "1/1 [==============================] - 0s 10ms/step - loss: 11.2034 - mean_absolute_error: 11.2034\n",
            "Epoch 6/100\n",
            "1/1 [==============================] - 0s 13ms/step - loss: 10.5866 - mean_absolute_error: 10.5866\n",
            "Epoch 7/100\n",
            "1/1 [==============================] - 0s 13ms/step - loss: 9.9639 - mean_absolute_error: 9.9639\n",
            "Epoch 8/100\n",
            "1/1 [==============================] - 0s 10ms/step - loss: 9.3338 - mean_absolute_error: 9.3338\n",
            "Epoch 9/100\n",
            "1/1 [==============================] - 0s 10ms/step - loss: 8.6949 - mean_absolute_error: 8.6949\n",
            "Epoch 10/100\n",
            "1/1 [==============================] - 0s 11ms/step - loss: 8.0459 - mean_absolute_error: 8.0459\n",
            "Epoch 11/100\n",
            "1/1 [==============================] - 0s 13ms/step - loss: 7.3853 - mean_absolute_error: 7.3853\n",
            "Epoch 12/100\n",
            "1/1 [==============================] - 0s 12ms/step - loss: 7.2729 - mean_absolute_error: 7.2729\n",
            "Epoch 13/100\n",
            "1/1 [==============================] - 0s 12ms/step - loss: 7.6363 - mean_absolute_error: 7.6363\n",
            "Epoch 14/100\n",
            "1/1 [==============================] - 0s 14ms/step - loss: 7.9588 - mean_absolute_error: 7.9588\n",
            "Epoch 15/100\n",
            "1/1 [==============================] - 0s 18ms/step - loss: 8.2343 - mean_absolute_error: 8.2343\n",
            "Epoch 16/100\n",
            "1/1 [==============================] - 0s 14ms/step - loss: 8.3867 - mean_absolute_error: 8.3867\n",
            "Epoch 17/100\n",
            "1/1 [==============================] - 0s 12ms/step - loss: 8.3519 - mean_absolute_error: 8.3519\n",
            "Epoch 18/100\n",
            "1/1 [==============================] - 0s 11ms/step - loss: 8.1714 - mean_absolute_error: 8.1714\n",
            "Epoch 19/100\n",
            "1/1 [==============================] - 0s 12ms/step - loss: 7.9352 - mean_absolute_error: 7.9352\n",
            "Epoch 20/100\n",
            "1/1 [==============================] - 0s 12ms/step - loss: 7.7321 - mean_absolute_error: 7.7321\n",
            "Epoch 21/100\n",
            "1/1 [==============================] - 0s 12ms/step - loss: 7.5079 - mean_absolute_error: 7.5079\n",
            "Epoch 22/100\n",
            "1/1 [==============================] - 0s 13ms/step - loss: 7.2664 - mean_absolute_error: 7.2664\n",
            "Epoch 23/100\n",
            "1/1 [==============================] - 0s 13ms/step - loss: 7.0729 - mean_absolute_error: 7.0729\n",
            "Epoch 24/100\n",
            "1/1 [==============================] - 0s 11ms/step - loss: 7.0604 - mean_absolute_error: 7.0604\n",
            "Epoch 25/100\n",
            "1/1 [==============================] - 0s 12ms/step - loss: 7.0473 - mean_absolute_error: 7.0473\n",
            "Epoch 26/100\n",
            "1/1 [==============================] - 0s 12ms/step - loss: 7.2138 - mean_absolute_error: 7.2138\n",
            "Epoch 27/100\n",
            "1/1 [==============================] - 0s 12ms/step - loss: 7.3243 - mean_absolute_error: 7.3243\n",
            "Epoch 28/100\n",
            "1/1 [==============================] - 0s 11ms/step - loss: 7.3517 - mean_absolute_error: 7.3517\n",
            "Epoch 29/100\n",
            "1/1 [==============================] - 0s 15ms/step - loss: 7.3061 - mean_absolute_error: 7.3061\n",
            "Epoch 30/100\n",
            "1/1 [==============================] - 0s 13ms/step - loss: 7.1955 - mean_absolute_error: 7.1955\n",
            "Epoch 31/100\n",
            "1/1 [==============================] - 0s 12ms/step - loss: 7.0266 - mean_absolute_error: 7.0266\n",
            "Epoch 32/100\n",
            "1/1 [==============================] - 0s 14ms/step - loss: 6.9024 - mean_absolute_error: 6.9024\n",
            "Epoch 33/100\n",
            "1/1 [==============================] - 0s 12ms/step - loss: 6.8747 - mean_absolute_error: 6.8747\n",
            "Epoch 34/100\n",
            "1/1 [==============================] - 0s 15ms/step - loss: 6.8469 - mean_absolute_error: 6.8469\n",
            "Epoch 35/100\n",
            "1/1 [==============================] - 0s 13ms/step - loss: 6.8189 - mean_absolute_error: 6.8189\n",
            "Epoch 36/100\n",
            "1/1 [==============================] - 0s 12ms/step - loss: 6.8934 - mean_absolute_error: 6.8934\n",
            "Epoch 37/100\n",
            "1/1 [==============================] - 0s 13ms/step - loss: 6.9321 - mean_absolute_error: 6.9321\n",
            "Epoch 38/100\n",
            "1/1 [==============================] - 0s 14ms/step - loss: 6.9259 - mean_absolute_error: 6.9259\n",
            "Epoch 39/100\n",
            "1/1 [==============================] - 0s 14ms/step - loss: 6.8792 - mean_absolute_error: 6.8792\n",
            "Epoch 40/100\n",
            "1/1 [==============================] - 0s 15ms/step - loss: 6.7963 - mean_absolute_error: 6.7963\n",
            "Epoch 41/100\n",
            "1/1 [==============================] - 0s 13ms/step - loss: 6.6841 - mean_absolute_error: 6.6841\n",
            "Epoch 42/100\n",
            "1/1 [==============================] - 0s 13ms/step - loss: 6.6663 - mean_absolute_error: 6.6663\n",
            "Epoch 43/100\n",
            "1/1 [==============================] - 0s 13ms/step - loss: 6.6477 - mean_absolute_error: 6.6477\n",
            "Epoch 44/100\n",
            "1/1 [==============================] - 0s 13ms/step - loss: 6.6282 - mean_absolute_error: 6.6282\n",
            "Epoch 45/100\n",
            "1/1 [==============================] - 0s 20ms/step - loss: 6.6079 - mean_absolute_error: 6.6079\n",
            "Epoch 46/100\n",
            "1/1 [==============================] - 0s 17ms/step - loss: 6.5869 - mean_absolute_error: 6.5869\n",
            "Epoch 47/100\n",
            "1/1 [==============================] - 0s 19ms/step - loss: 6.5651 - mean_absolute_error: 6.5651\n",
            "Epoch 48/100\n",
            "1/1 [==============================] - 0s 19ms/step - loss: 6.5425 - mean_absolute_error: 6.5425\n",
            "Epoch 49/100\n",
            "1/1 [==============================] - 0s 17ms/step - loss: 6.5191 - mean_absolute_error: 6.5191\n",
            "Epoch 50/100\n",
            "1/1 [==============================] - 0s 13ms/step - loss: 6.4949 - mean_absolute_error: 6.4949\n",
            "Epoch 51/100\n",
            "1/1 [==============================] - 0s 13ms/step - loss: 6.4760 - mean_absolute_error: 6.4760\n",
            "Epoch 52/100\n",
            "1/1 [==============================] - 0s 14ms/step - loss: 6.4399 - mean_absolute_error: 6.4399\n",
            "Epoch 53/100\n",
            "1/1 [==============================] - 0s 14ms/step - loss: 6.4092 - mean_absolute_error: 6.4092\n",
            "Epoch 54/100\n",
            "1/1 [==============================] - 0s 12ms/step - loss: 6.3779 - mean_absolute_error: 6.3779\n",
            "Epoch 55/100\n",
            "1/1 [==============================] - 0s 12ms/step - loss: 6.3459 - mean_absolute_error: 6.3459\n",
            "Epoch 56/100\n",
            "1/1 [==============================] - 0s 15ms/step - loss: 6.3133 - mean_absolute_error: 6.3133\n",
            "Epoch 57/100\n",
            "1/1 [==============================] - 0s 13ms/step - loss: 6.2799 - mean_absolute_error: 6.2799\n",
            "Epoch 58/100\n",
            "1/1 [==============================] - 0s 11ms/step - loss: 6.2458 - mean_absolute_error: 6.2458\n",
            "Epoch 59/100\n",
            "1/1 [==============================] - 0s 13ms/step - loss: 6.2108 - mean_absolute_error: 6.2108\n",
            "Epoch 60/100\n",
            "1/1 [==============================] - 0s 12ms/step - loss: 6.1750 - mean_absolute_error: 6.1750\n",
            "Epoch 61/100\n",
            "1/1 [==============================] - 0s 10ms/step - loss: 6.1630 - mean_absolute_error: 6.1630\n",
            "Epoch 62/100\n",
            "1/1 [==============================] - 0s 13ms/step - loss: 6.1271 - mean_absolute_error: 6.1271\n",
            "Epoch 63/100\n",
            "1/1 [==============================] - 0s 12ms/step - loss: 6.0774 - mean_absolute_error: 6.0774\n",
            "Epoch 64/100\n",
            "1/1 [==============================] - 0s 12ms/step - loss: 6.0474 - mean_absolute_error: 6.0474\n",
            "Epoch 65/100\n",
            "1/1 [==============================] - 0s 19ms/step - loss: 6.0158 - mean_absolute_error: 6.0158\n",
            "Epoch 66/100\n",
            "1/1 [==============================] - 0s 17ms/step - loss: 5.9826 - mean_absolute_error: 5.9826\n",
            "Epoch 67/100\n",
            "1/1 [==============================] - 0s 13ms/step - loss: 5.9478 - mean_absolute_error: 5.9478\n",
            "Epoch 68/100\n",
            "1/1 [==============================] - 0s 14ms/step - loss: 5.9114 - mean_absolute_error: 5.9114\n",
            "Epoch 69/100\n",
            "1/1 [==============================] - 0s 12ms/step - loss: 5.8735 - mean_absolute_error: 5.8735\n",
            "Epoch 70/100\n",
            "1/1 [==============================] - 0s 12ms/step - loss: 5.8339 - mean_absolute_error: 5.8339\n",
            "Epoch 71/100\n",
            "1/1 [==============================] - 0s 15ms/step - loss: 5.7927 - mean_absolute_error: 5.7927\n",
            "Epoch 72/100\n",
            "1/1 [==============================] - 0s 16ms/step - loss: 5.7499 - mean_absolute_error: 5.7499\n",
            "Epoch 73/100\n",
            "1/1 [==============================] - 0s 11ms/step - loss: 5.7054 - mean_absolute_error: 5.7054\n",
            "Epoch 74/100\n",
            "1/1 [==============================] - 0s 11ms/step - loss: 5.6593 - mean_absolute_error: 5.6593\n",
            "Epoch 75/100\n",
            "1/1 [==============================] - 0s 11ms/step - loss: 5.6114 - mean_absolute_error: 5.6114\n",
            "Epoch 76/100\n",
            "1/1 [==============================] - 0s 11ms/step - loss: 5.5617 - mean_absolute_error: 5.5617\n",
            "Epoch 77/100\n",
            "1/1 [==============================] - 0s 11ms/step - loss: 5.5238 - mean_absolute_error: 5.5238\n",
            "Epoch 78/100\n",
            "1/1 [==============================] - 0s 11ms/step - loss: 5.4645 - mean_absolute_error: 5.4645\n",
            "Epoch 79/100\n",
            "1/1 [==============================] - 0s 11ms/step - loss: 5.4163 - mean_absolute_error: 5.4163\n",
            "Epoch 80/100\n",
            "1/1 [==============================] - 0s 13ms/step - loss: 5.3658 - mean_absolute_error: 5.3658\n",
            "Epoch 81/100\n",
            "1/1 [==============================] - 0s 13ms/step - loss: 5.3128 - mean_absolute_error: 5.3128\n",
            "Epoch 82/100\n",
            "1/1 [==============================] - 0s 17ms/step - loss: 5.2575 - mean_absolute_error: 5.2575\n",
            "Epoch 83/100\n",
            "1/1 [==============================] - 0s 16ms/step - loss: 5.1997 - mean_absolute_error: 5.1997\n",
            "Epoch 84/100\n",
            "1/1 [==============================] - 0s 20ms/step - loss: 5.1590 - mean_absolute_error: 5.1590\n",
            "Epoch 85/100\n",
            "1/1 [==============================] - 0s 12ms/step - loss: 5.0855 - mean_absolute_error: 5.0855\n",
            "Epoch 86/100\n",
            "1/1 [==============================] - 0s 12ms/step - loss: 5.0284 - mean_absolute_error: 5.0284\n",
            "Epoch 87/100\n",
            "1/1 [==============================] - 0s 11ms/step - loss: 4.9682 - mean_absolute_error: 4.9682\n",
            "Epoch 88/100\n",
            "1/1 [==============================] - 0s 10ms/step - loss: 4.9049 - mean_absolute_error: 4.9049\n",
            "Epoch 89/100\n",
            "1/1 [==============================] - 0s 17ms/step - loss: 4.8385 - mean_absolute_error: 4.8385\n",
            "Epoch 90/100\n",
            "1/1 [==============================] - 0s 15ms/step - loss: 4.7690 - mean_absolute_error: 4.7690\n",
            "Epoch 91/100\n",
            "1/1 [==============================] - 0s 14ms/step - loss: 4.6963 - mean_absolute_error: 4.6963\n",
            "Epoch 92/100\n",
            "1/1 [==============================] - 0s 21ms/step - loss: 4.6204 - mean_absolute_error: 4.6204\n",
            "Epoch 93/100\n",
            "1/1 [==============================] - 0s 24ms/step - loss: 4.5432 - mean_absolute_error: 4.5432\n",
            "Epoch 94/100\n",
            "1/1 [==============================] - 0s 17ms/step - loss: 4.4693 - mean_absolute_error: 4.4693\n",
            "Epoch 95/100\n",
            "1/1 [==============================] - 0s 21ms/step - loss: 4.3933 - mean_absolute_error: 4.3933\n",
            "Epoch 96/100\n",
            "1/1 [==============================] - 0s 13ms/step - loss: 4.3132 - mean_absolute_error: 4.3132\n",
            "Epoch 97/100\n",
            "1/1 [==============================] - 0s 18ms/step - loss: 4.2290 - mean_absolute_error: 4.2290\n",
            "Epoch 98/100\n",
            "1/1 [==============================] - 0s 17ms/step - loss: 4.1407 - mean_absolute_error: 4.1407\n",
            "Epoch 99/100\n",
            "1/1 [==============================] - 0s 16ms/step - loss: 4.0482 - mean_absolute_error: 4.0482\n",
            "Epoch 100/100\n",
            "1/1 [==============================] - 0s 11ms/step - loss: 3.9516 - mean_absolute_error: 3.9516\n"
          ]
        },
        {
          "output_type": "execute_result",
          "data": {
            "text/plain": [
              "<keras.src.callbacks.History at 0x7c096629b730>"
            ]
          },
          "metadata": {},
          "execution_count": 63
        }
      ]
    },
    {
      "cell_type": "code",
      "source": [
        "# Try and predict what y would be if X was 17.0\n",
        "model.predict([17.0]) # the right answer is 27.0 (y = X + 10)"
      ],
      "metadata": {
        "colab": {
          "base_uri": "https://localhost:8080/"
        },
        "id": "KluDerXA6csm",
        "outputId": "08d7be4b-801c-4108-fe1f-57e23c710bec"
      },
      "execution_count": null,
      "outputs": [
        {
          "output_type": "stream",
          "name": "stdout",
          "text": [
            "1/1 [==============================] - 0s 55ms/step\n"
          ]
        },
        {
          "output_type": "execute_result",
          "data": {
            "text/plain": [
              "array([[29.69931]], dtype=float32)"
            ]
          },
          "metadata": {},
          "execution_count": 65
        }
      ]
    },
    {
      "cell_type": "code",
      "source": [
        "# Let's rebuild our model\n",
        "# Set random seed\n",
        "tf.random.set_seed(42)\n",
        "\n",
        "#1. Create a mdoel using sequential model\n",
        "model = tf.keras.Sequential([\n",
        "          tf.keras.layers.Dense(50, activation=None),\n",
        "          tf.keras.layers.Dense(1)\n",
        "])\n",
        "\n",
        "#2. Compile the model\n",
        "model.compile(loss = [\"mae\"],\n",
        "              optimizer = tf.keras.optimizers.Adam(learning_rate=0.01),\n",
        "              metrics = tf.keras.metrics.MAE # Or metrics=[\"mae\"]\n",
        "              )\n",
        "#3. Fit the model    tf.expand_dims(X, axis=-1)\n",
        "model.fit(tf.expand_dims(x, axis=-1),y, epochs=100)\n"
      ],
      "metadata": {
        "colab": {
          "base_uri": "https://localhost:8080/"
        },
        "id": "qVptId8d6k8-",
        "outputId": "dc3db724-24ce-457a-f8b3-12393f3d999a"
      },
      "execution_count": null,
      "outputs": [
        {
          "output_type": "stream",
          "name": "stdout",
          "text": [
            "Epoch 1/100\n",
            "1/1 [==============================] - 1s 1s/step - loss: 13.1017 - mean_absolute_error: 13.1017\n",
            "Epoch 2/100\n",
            "1/1 [==============================] - 0s 10ms/step - loss: 12.4189 - mean_absolute_error: 12.4189\n",
            "Epoch 3/100\n",
            "1/1 [==============================] - 0s 10ms/step - loss: 11.7324 - mean_absolute_error: 11.7324\n",
            "Epoch 4/100\n",
            "1/1 [==============================] - 0s 14ms/step - loss: 11.0409 - mean_absolute_error: 11.0409\n",
            "Epoch 5/100\n",
            "1/1 [==============================] - 0s 11ms/step - loss: 10.3430 - mean_absolute_error: 10.3430\n",
            "Epoch 6/100\n",
            "1/1 [==============================] - 0s 11ms/step - loss: 9.6374 - mean_absolute_error: 9.6374\n",
            "Epoch 7/100\n",
            "1/1 [==============================] - 0s 10ms/step - loss: 8.9226 - mean_absolute_error: 8.9226\n",
            "Epoch 8/100\n",
            "1/1 [==============================] - 0s 11ms/step - loss: 8.1968 - mean_absolute_error: 8.1968\n",
            "Epoch 9/100\n",
            "1/1 [==============================] - 0s 11ms/step - loss: 7.4574 - mean_absolute_error: 7.4574\n",
            "Epoch 10/100\n",
            "1/1 [==============================] - 0s 10ms/step - loss: 6.8281 - mean_absolute_error: 6.8281\n",
            "Epoch 11/100\n",
            "1/1 [==============================] - 0s 13ms/step - loss: 6.8450 - mean_absolute_error: 6.8450\n",
            "Epoch 12/100\n",
            "1/1 [==============================] - 0s 13ms/step - loss: 7.1197 - mean_absolute_error: 7.1197\n",
            "Epoch 13/100\n",
            "1/1 [==============================] - 0s 18ms/step - loss: 7.2824 - mean_absolute_error: 7.2824\n",
            "Epoch 14/100\n",
            "1/1 [==============================] - 0s 11ms/step - loss: 7.3692 - mean_absolute_error: 7.3692\n",
            "Epoch 15/100\n",
            "1/1 [==============================] - 0s 10ms/step - loss: 7.3244 - mean_absolute_error: 7.3244\n",
            "Epoch 16/100\n",
            "1/1 [==============================] - 0s 11ms/step - loss: 7.1464 - mean_absolute_error: 7.1464\n",
            "Epoch 17/100\n",
            "1/1 [==============================] - 0s 11ms/step - loss: 6.9615 - mean_absolute_error: 6.9615\n",
            "Epoch 18/100\n",
            "1/1 [==============================] - 0s 10ms/step - loss: 6.7458 - mean_absolute_error: 6.7458\n",
            "Epoch 19/100\n",
            "1/1 [==============================] - 0s 11ms/step - loss: 6.5057 - mean_absolute_error: 6.5057\n",
            "Epoch 20/100\n",
            "1/1 [==============================] - 0s 12ms/step - loss: 6.2463 - mean_absolute_error: 6.2463\n",
            "Epoch 21/100\n",
            "1/1 [==============================] - 0s 11ms/step - loss: 6.1418 - mean_absolute_error: 6.1418\n",
            "Epoch 22/100\n",
            "1/1 [==============================] - 0s 10ms/step - loss: 6.0931 - mean_absolute_error: 6.0931\n",
            "Epoch 23/100\n",
            "1/1 [==============================] - 0s 11ms/step - loss: 6.1790 - mean_absolute_error: 6.1790\n",
            "Epoch 24/100\n",
            "1/1 [==============================] - 0s 11ms/step - loss: 6.2279 - mean_absolute_error: 6.2279\n",
            "Epoch 25/100\n",
            "1/1 [==============================] - 0s 10ms/step - loss: 6.1739 - mean_absolute_error: 6.1739\n",
            "Epoch 26/100\n",
            "1/1 [==============================] - 0s 10ms/step - loss: 6.0304 - mean_absolute_error: 6.0304\n",
            "Epoch 27/100\n",
            "1/1 [==============================] - 0s 10ms/step - loss: 5.8071 - mean_absolute_error: 5.8071\n",
            "Epoch 28/100\n",
            "1/1 [==============================] - 0s 10ms/step - loss: 5.6253 - mean_absolute_error: 5.6253\n",
            "Epoch 29/100\n",
            "1/1 [==============================] - 0s 10ms/step - loss: 5.5210 - mean_absolute_error: 5.5210\n",
            "Epoch 30/100\n",
            "1/1 [==============================] - 0s 10ms/step - loss: 5.4138 - mean_absolute_error: 5.4138\n",
            "Epoch 31/100\n",
            "1/1 [==============================] - 0s 14ms/step - loss: 5.4419 - mean_absolute_error: 5.4419\n",
            "Epoch 32/100\n",
            "1/1 [==============================] - 0s 12ms/step - loss: 5.4275 - mean_absolute_error: 5.4275\n",
            "Epoch 33/100\n",
            "1/1 [==============================] - 0s 10ms/step - loss: 5.3669 - mean_absolute_error: 5.3669\n",
            "Epoch 34/100\n",
            "1/1 [==============================] - 0s 13ms/step - loss: 5.2639 - mean_absolute_error: 5.2639\n",
            "Epoch 35/100\n",
            "1/1 [==============================] - 0s 12ms/step - loss: 5.1221 - mean_absolute_error: 5.1221\n",
            "Epoch 36/100\n",
            "1/1 [==============================] - 0s 12ms/step - loss: 4.9448 - mean_absolute_error: 4.9448\n",
            "Epoch 37/100\n",
            "1/1 [==============================] - 0s 13ms/step - loss: 4.7353 - mean_absolute_error: 4.7353\n",
            "Epoch 38/100\n",
            "1/1 [==============================] - 0s 12ms/step - loss: 4.6346 - mean_absolute_error: 4.6346\n",
            "Epoch 39/100\n",
            "1/1 [==============================] - 0s 13ms/step - loss: 4.5392 - mean_absolute_error: 4.5392\n",
            "Epoch 40/100\n",
            "1/1 [==============================] - 0s 13ms/step - loss: 4.5142 - mean_absolute_error: 4.5142\n",
            "Epoch 41/100\n",
            "1/1 [==============================] - 0s 12ms/step - loss: 4.4339 - mean_absolute_error: 4.4339\n",
            "Epoch 42/100\n",
            "1/1 [==============================] - 0s 12ms/step - loss: 4.2389 - mean_absolute_error: 4.2389\n",
            "Epoch 43/100\n",
            "1/1 [==============================] - 0s 10ms/step - loss: 4.0237 - mean_absolute_error: 4.0237\n",
            "Epoch 44/100\n",
            "1/1 [==============================] - 0s 10ms/step - loss: 3.8637 - mean_absolute_error: 3.8637\n",
            "Epoch 45/100\n",
            "1/1 [==============================] - 0s 10ms/step - loss: 3.7331 - mean_absolute_error: 3.7331\n",
            "Epoch 46/100\n",
            "1/1 [==============================] - 0s 10ms/step - loss: 3.6383 - mean_absolute_error: 3.6383\n",
            "Epoch 47/100\n",
            "1/1 [==============================] - 0s 10ms/step - loss: 3.4898 - mean_absolute_error: 3.4898\n",
            "Epoch 48/100\n",
            "1/1 [==============================] - 0s 10ms/step - loss: 3.2903 - mean_absolute_error: 3.2903\n",
            "Epoch 49/100\n",
            "1/1 [==============================] - 0s 15ms/step - loss: 3.0544 - mean_absolute_error: 3.0544\n",
            "Epoch 50/100\n",
            "1/1 [==============================] - 0s 14ms/step - loss: 2.8853 - mean_absolute_error: 2.8853\n",
            "Epoch 51/100\n",
            "1/1 [==============================] - 0s 16ms/step - loss: 2.7050 - mean_absolute_error: 2.7050\n",
            "Epoch 52/100\n",
            "1/1 [==============================] - 0s 16ms/step - loss: 2.5218 - mean_absolute_error: 2.5218\n",
            "Epoch 53/100\n",
            "1/1 [==============================] - 0s 12ms/step - loss: 2.2999 - mean_absolute_error: 2.2999\n",
            "Epoch 54/100\n",
            "1/1 [==============================] - 0s 15ms/step - loss: 2.0759 - mean_absolute_error: 2.0759\n",
            "Epoch 55/100\n",
            "1/1 [==============================] - 0s 15ms/step - loss: 1.8626 - mean_absolute_error: 1.8626\n",
            "Epoch 56/100\n",
            "1/1 [==============================] - 0s 16ms/step - loss: 1.6315 - mean_absolute_error: 1.6315\n",
            "Epoch 57/100\n",
            "1/1 [==============================] - 0s 18ms/step - loss: 1.3739 - mean_absolute_error: 1.3739\n",
            "Epoch 58/100\n",
            "1/1 [==============================] - 0s 17ms/step - loss: 1.1431 - mean_absolute_error: 1.1431\n",
            "Epoch 59/100\n",
            "1/1 [==============================] - 0s 16ms/step - loss: 0.8559 - mean_absolute_error: 0.8559\n",
            "Epoch 60/100\n",
            "1/1 [==============================] - 0s 15ms/step - loss: 0.6370 - mean_absolute_error: 0.6370\n",
            "Epoch 61/100\n",
            "1/1 [==============================] - 0s 14ms/step - loss: 0.3714 - mean_absolute_error: 0.3714\n",
            "Epoch 62/100\n",
            "1/1 [==============================] - 0s 19ms/step - loss: 0.1731 - mean_absolute_error: 0.1731\n",
            "Epoch 63/100\n",
            "1/1 [==============================] - 0s 19ms/step - loss: 0.2457 - mean_absolute_error: 0.2457\n",
            "Epoch 64/100\n",
            "1/1 [==============================] - 0s 20ms/step - loss: 0.4867 - mean_absolute_error: 0.4867\n",
            "Epoch 65/100\n",
            "1/1 [==============================] - 0s 19ms/step - loss: 0.5660 - mean_absolute_error: 0.5660\n",
            "Epoch 66/100\n",
            "1/1 [==============================] - 0s 19ms/step - loss: 0.6375 - mean_absolute_error: 0.6375\n",
            "Epoch 67/100\n",
            "1/1 [==============================] - 0s 12ms/step - loss: 0.6735 - mean_absolute_error: 0.6735\n",
            "Epoch 68/100\n",
            "1/1 [==============================] - 0s 11ms/step - loss: 0.6737 - mean_absolute_error: 0.6737\n",
            "Epoch 69/100\n",
            "1/1 [==============================] - 0s 12ms/step - loss: 0.6141 - mean_absolute_error: 0.6141\n",
            "Epoch 70/100\n",
            "1/1 [==============================] - 0s 11ms/step - loss: 0.5254 - mean_absolute_error: 0.5254\n",
            "Epoch 71/100\n",
            "1/1 [==============================] - 0s 14ms/step - loss: 0.4211 - mean_absolute_error: 0.4211\n",
            "Epoch 72/100\n",
            "1/1 [==============================] - 0s 12ms/step - loss: 0.3402 - mean_absolute_error: 0.3402\n",
            "Epoch 73/100\n",
            "1/1 [==============================] - 0s 12ms/step - loss: 0.1383 - mean_absolute_error: 0.1383\n",
            "Epoch 74/100\n",
            "1/1 [==============================] - 0s 11ms/step - loss: 0.0365 - mean_absolute_error: 0.0365\n",
            "Epoch 75/100\n",
            "1/1 [==============================] - 0s 11ms/step - loss: 0.2868 - mean_absolute_error: 0.2868\n",
            "Epoch 76/100\n",
            "1/1 [==============================] - 0s 14ms/step - loss: 0.3422 - mean_absolute_error: 0.3422\n",
            "Epoch 77/100\n",
            "1/1 [==============================] - 0s 13ms/step - loss: 0.2695 - mean_absolute_error: 0.2695\n",
            "Epoch 78/100\n",
            "1/1 [==============================] - 0s 12ms/step - loss: 0.3219 - mean_absolute_error: 0.3219\n",
            "Epoch 79/100\n",
            "1/1 [==============================] - 0s 20ms/step - loss: 0.2377 - mean_absolute_error: 0.2377\n",
            "Epoch 80/100\n",
            "1/1 [==============================] - 0s 12ms/step - loss: 0.1956 - mean_absolute_error: 0.1956\n",
            "Epoch 81/100\n",
            "1/1 [==============================] - 0s 10ms/step - loss: 0.1024 - mean_absolute_error: 0.1024\n",
            "Epoch 82/100\n",
            "1/1 [==============================] - 0s 20ms/step - loss: 0.0314 - mean_absolute_error: 0.0314\n",
            "Epoch 83/100\n",
            "1/1 [==============================] - 0s 10ms/step - loss: 0.3074 - mean_absolute_error: 0.3074\n",
            "Epoch 84/100\n",
            "1/1 [==============================] - 0s 16ms/step - loss: 0.3146 - mean_absolute_error: 0.3146\n",
            "Epoch 85/100\n",
            "1/1 [==============================] - 0s 14ms/step - loss: 0.1906 - mean_absolute_error: 0.1906\n",
            "Epoch 86/100\n",
            "1/1 [==============================] - 0s 13ms/step - loss: 0.3787 - mean_absolute_error: 0.3787\n",
            "Epoch 87/100\n",
            "1/1 [==============================] - 0s 11ms/step - loss: 0.2987 - mean_absolute_error: 0.2987\n",
            "Epoch 88/100\n",
            "1/1 [==============================] - 0s 15ms/step - loss: 0.2143 - mean_absolute_error: 0.2143\n",
            "Epoch 89/100\n",
            "1/1 [==============================] - 0s 14ms/step - loss: 0.2631 - mean_absolute_error: 0.2631\n",
            "Epoch 90/100\n",
            "1/1 [==============================] - 0s 9ms/step - loss: 0.0447 - mean_absolute_error: 0.0447\n",
            "Epoch 91/100\n",
            "1/1 [==============================] - 0s 13ms/step - loss: 0.4654 - mean_absolute_error: 0.4654\n",
            "Epoch 92/100\n",
            "1/1 [==============================] - 0s 12ms/step - loss: 0.6100 - mean_absolute_error: 0.6100\n",
            "Epoch 93/100\n",
            "1/1 [==============================] - 0s 12ms/step - loss: 0.4486 - mean_absolute_error: 0.4486\n",
            "Epoch 94/100\n",
            "1/1 [==============================] - 0s 13ms/step - loss: 0.1736 - mean_absolute_error: 0.1736\n",
            "Epoch 95/100\n",
            "1/1 [==============================] - 0s 19ms/step - loss: 0.5582 - mean_absolute_error: 0.5582\n",
            "Epoch 96/100\n",
            "1/1 [==============================] - 0s 19ms/step - loss: 0.7496 - mean_absolute_error: 0.7496\n",
            "Epoch 97/100\n",
            "1/1 [==============================] - 0s 20ms/step - loss: 0.6275 - mean_absolute_error: 0.6275\n",
            "Epoch 98/100\n",
            "1/1 [==============================] - 0s 14ms/step - loss: 0.2318 - mean_absolute_error: 0.2318\n",
            "Epoch 99/100\n",
            "1/1 [==============================] - 0s 14ms/step - loss: 0.4046 - mean_absolute_error: 0.4046\n",
            "Epoch 100/100\n",
            "1/1 [==============================] - 0s 14ms/step - loss: 0.6908 - mean_absolute_error: 0.6908\n"
          ]
        },
        {
          "output_type": "execute_result",
          "data": {
            "text/plain": [
              "<keras.src.callbacks.History at 0x7c096495aaa0>"
            ]
          },
          "metadata": {},
          "execution_count": 96
        }
      ]
    },
    {
      "cell_type": "code",
      "source": [
        "# Try and predict what y would be if X was 17.0\n",
        "model.predict([17.0]) # the right answer is 27.0 (y = X + 10)"
      ],
      "metadata": {
        "colab": {
          "base_uri": "https://localhost:8080/"
        },
        "id": "pt9ho7H49BCx",
        "outputId": "4f1b46f7-4db7-4b31-b057-86ecfabea0d3"
      },
      "execution_count": null,
      "outputs": [
        {
          "output_type": "stream",
          "name": "stdout",
          "text": [
            "1/1 [==============================] - 0s 76ms/step\n"
          ]
        },
        {
          "output_type": "execute_result",
          "data": {
            "text/plain": [
              "array([[25.227705]], dtype=float32)"
            ]
          },
          "metadata": {},
          "execution_count": 97
        }
      ]
    },
    {
      "cell_type": "code",
      "source": [
        "# Remind ourselves of what X and y are\n",
        "X, y"
      ],
      "metadata": {
        "colab": {
          "base_uri": "https://localhost:8080/"
        },
        "id": "Q8jAI9Vi9Q1S",
        "outputId": "7bb6e5a4-4a5b-4403-a1e0-dc7774932e53"
      },
      "execution_count": null,
      "outputs": [
        {
          "output_type": "execute_result",
          "data": {
            "text/plain": [
              "(array([-7., -4., -1.,  2.,  5.,  8., 11., 14.]),\n",
              " <tf.Tensor: shape=(8,), dtype=float64, numpy=array([ 3.,  6.,  9., 12., 15., 18., 21., 24.])>)"
            ]
          },
          "metadata": {},
          "execution_count": 85
        }
      ]
    },
    {
      "cell_type": "markdown",
      "source": [
        "## Evaluating a model\n",
        "\n",
        "A typical workflow you'll go through when building neural networks is:\n",
        "\n",
        "```\n",
        "Build a model -> evaluate it -> build (tweak) a model -> evaulate it -> build (tweak) a model -> evaluate it...\n",
        "```\n",
        "\n",
        "The tweaking comes from maybe not building a model from scratch but adjusting an existing one.\n",
        "\n",
        "### Visualize, visualize, visualize\n",
        "\n",
        "When it comes to evaluation, you'll want to remember the words: \"visualize, visualize, visualize.\"\n",
        "\n",
        "This is because you're probably better looking at something (doing) than you are thinking about something.\n",
        "\n",
        "It's a good idea to visualize:\n",
        "* **The data** - what data are you working with? What does it look like?\n",
        "* **The model itself** - what does the architecture look like? What are the different shapes?\n",
        "* **The training of a model** - how does a model perform while it learns?\n",
        "* **The predictions of a model** - how do the predictions of a model line up against the ground truth (the original labels)?\n",
        "\n",
        "Let's start by visualizing the model.\n",
        "\n",
        "But first, we'll create a little bit of a bigger dataset and a new model we can use (it'll be the same as before, but the more practice the better).\n"
      ],
      "metadata": {
        "id": "2_I7m7p0IuO2"
      }
    },
    {
      "cell_type": "code",
      "source": [
        "#Make a bigger dataset\n",
        "X = tf.range(-100,100, 4)\n",
        "X"
      ],
      "metadata": {
        "colab": {
          "base_uri": "https://localhost:8080/"
        },
        "id": "NiNDeXqr9x-K",
        "outputId": "07dd3282-ed1f-4c0a-b962-8a428c102ff3"
      },
      "execution_count": null,
      "outputs": [
        {
          "output_type": "execute_result",
          "data": {
            "text/plain": [
              "<tf.Tensor: shape=(50,), dtype=int32, numpy=\n",
              "array([-100,  -96,  -92,  -88,  -84,  -80,  -76,  -72,  -68,  -64,  -60,\n",
              "        -56,  -52,  -48,  -44,  -40,  -36,  -32,  -28,  -24,  -20,  -16,\n",
              "        -12,   -8,   -4,    0,    4,    8,   12,   16,   20,   24,   28,\n",
              "         32,   36,   40,   44,   48,   52,   56,   60,   64,   68,   72,\n",
              "         76,   80,   84,   88,   92,   96], dtype=int32)>"
            ]
          },
          "metadata": {},
          "execution_count": 98
        }
      ]
    },
    {
      "cell_type": "code",
      "source": [
        "y = X+10\n",
        "y"
      ],
      "metadata": {
        "colab": {
          "base_uri": "https://localhost:8080/"
        },
        "id": "RQZINFECJqoe",
        "outputId": "8d729083-22f5-4441-8b05-f99730bddb95"
      },
      "execution_count": null,
      "outputs": [
        {
          "output_type": "execute_result",
          "data": {
            "text/plain": [
              "<tf.Tensor: shape=(50,), dtype=int32, numpy=\n",
              "array([-90, -86, -82, -78, -74, -70, -66, -62, -58, -54, -50, -46, -42,\n",
              "       -38, -34, -30, -26, -22, -18, -14, -10,  -6,  -2,   2,   6,  10,\n",
              "        14,  18,  22,  26,  30,  34,  38,  42,  46,  50,  54,  58,  62,\n",
              "        66,  70,  74,  78,  82,  86,  90,  94,  98, 102, 106], dtype=int32)>"
            ]
          },
          "metadata": {},
          "execution_count": 99
        }
      ]
    },
    {
      "cell_type": "code",
      "source": [
        "#visualize the data\n",
        "plt.scatter(X,y)"
      ],
      "metadata": {
        "colab": {
          "base_uri": "https://localhost:8080/",
          "height": 447
        },
        "id": "Lqd0fr3_JvbO",
        "outputId": "04c8a5e9-1c4a-4578-cb82-0ba20d79273d"
      },
      "execution_count": null,
      "outputs": [
        {
          "output_type": "execute_result",
          "data": {
            "text/plain": [
              "<matplotlib.collections.PathCollection at 0x7c0966bdb010>"
            ]
          },
          "metadata": {},
          "execution_count": 100
        },
        {
          "output_type": "display_data",
          "data": {
            "text/plain": [
              "<Figure size 640x480 with 1 Axes>"
            ],
            "image/png": "[encoded data removed]"
          },
          "metadata": {}
        }
      ]
    },
    {
      "cell_type": "code",
      "source": [
        "len(X)"
      ],
      "metadata": {
        "colab": {
          "base_uri": "https://localhost:8080/"
        },
        "id": "UmMA3moYNXhs",
        "outputId": "cedf49d7-fee2-47f5-f79e-d8ea6bb85e7a"
      },
      "execution_count": null,
      "outputs": [
        {
          "output_type": "execute_result",
          "data": {
            "text/plain": [
              "50"
            ]
          },
          "metadata": {},
          "execution_count": 103
        }
      ]
    },
    {
      "cell_type": "code",
      "source": [
        "# from sklearn.model_selection import train_test_split\n",
        "# xtr, ytr, xte, yte = train_test_split(X,y, test_size=0.2)\n",
        "\n",
        "# remember that :\n",
        "#Only integers, slices (`:`), ellipsis (`...`), tf.newaxis (`None`) and scalar tf.int32/tf.int64 tensors are valid indices for this function,but we have got array([ 5, 28, 13, 49, 32, 44, 38,  6, 46, 30, 21,  2,  8, 31, 34, 10,  4,\n",
        "#       27, 22, 16, 48, 35, 17,  1, 20, 36, 29, 37, 41, 26, 42, 47,  9, 39,\n",
        "#       14, 15, 33,  0, 45, 11])\n"
      ],
      "metadata": {
        "id": "IpWUUeKRJ3dQ"
      },
      "execution_count": null,
      "outputs": []
    },
    {
      "cell_type": "markdown",
      "source": [
        "So, let's do this manually."
      ],
      "metadata": {
        "id": "-YByeObEN29d"
      }
    },
    {
      "cell_type": "code",
      "source": [
        "xtr =  X[:40]\n",
        "ytr = y[:40]\n",
        "xte = X[40:]\n",
        "yte = y[40:]\n",
        "len(xtr), len(xte),len(ytr),  len(yte)"
      ],
      "metadata": {
        "colab": {
          "base_uri": "https://localhost:8080/"
        },
        "id": "ejpGR8SwMgL6",
        "outputId": "8d64df98-d70e-4f4d-b9c5-5699cc69293d"
      },
      "execution_count": null,
      "outputs": [
        {
          "output_type": "execute_result",
          "data": {
            "text/plain": [
              "(40, 10, 40, 10)"
            ]
          },
          "metadata": {},
          "execution_count": 109
        }
      ]
    },
    {
      "cell_type": "markdown",
      "source": [
        "## Visualizing the data\n",
        "\n",
        "Now we've got our training and test data, it's a good idea to visualize it.\n",
        "\n",
        "Let's plot it with some nice colours to differentiate what's what."
      ],
      "metadata": {
        "id": "iayRs2BdO9gQ"
      }
    },
    {
      "cell_type": "code",
      "source": [
        "plt.figure(figsize=(10,7))\n",
        "plt.scatter(xtr,ytr, c=\"r\", label= \"Training data\")\n",
        "plt.scatter(xte,yte, c=\"g\", label =\"Testing data\")\n",
        "plt.legend();"
      ],
      "metadata": {
        "colab": {
          "base_uri": "https://localhost:8080/",
          "height": 599
        },
        "id": "dkxypyojOROt",
        "outputId": "6f1b2237-6f99-40db-9ed6-0bfa5a6acca3"
      },
      "execution_count": null,
      "outputs": [
        {
          "output_type": "display_data",
          "data": {
            "text/plain": [
              "<Figure size 1000x700 with 1 Axes>"
            ],
            "image/png": "[encoded data removed]"
          },
          "metadata": {}
        }
      ]
    },
    {
      "cell_type": "markdown",
      "source": [
        "Beautiful! Any time you can visualize your data, your model, your anything, it's a good idea.\n",
        "\n",
        "With this graph in mind, what we'll be trying to do is build a model which learns the pattern in the blue dots (`X_train`) to draw the green dots (`X_test`).\n",
        "\n",
        "Time to build a model. We'll make the exact same one from before (the one we trained for longer)."
      ],
      "metadata": {
        "id": "rAMkLRNLQmlz"
      }
    },
    {
      "cell_type": "code",
      "source": [
        "# Set random seed\n",
        "tf.random.set_seed(42)\n",
        "\n",
        "# Create a model (same as above)\n",
        "model = tf.keras.Sequential([\n",
        "  tf.keras.layers.Dense(1)\n",
        "])\n",
        "\n",
        "# Compile model (same as above)\n",
        "model.compile(loss=tf.keras.losses.mae,\n",
        "              optimizer=tf.keras.optimizers.SGD(),\n",
        "              metrics=[\"mae\"])\n",
        "\n",
        "# Fit model (same as above)\n",
        "#model.fit(X_train, y_train, epochs=100) # commented out on purpose (not fitting it just yet)"
      ],
      "metadata": {
        "id": "8nhDh2PAPC9b"
      },
      "execution_count": null,
      "outputs": []
    },
    {
      "cell_type": "markdown",
      "source": [
        "## Visualizing the model\n",
        "\n",
        "After you've built a model, you might want to take a look at it (especially if you haven't built many before).\n",
        "\n",
        "You can take a look at the layers and shapes of your model by calling [`summary()`](https://www.tensorflow.org/api_docs/python/tf/keras/Model#summary) on it."
      ],
      "metadata": {
        "id": "YBvIita9Q-FK"
      }
    },
    {
      "cell_type": "code",
      "source": [
        "# # Doesn't work (model not fit/built)\n",
        "# model.summary()"
      ],
      "metadata": {
        "id": "JI2aLUa7Q7eR"
      },
      "execution_count": null,
      "outputs": []
    },
    {
      "cell_type": "markdown",
      "source": [
        "Ahh, the cell above errors because we haven't fit or built our model.\n",
        "\n",
        "We also haven't told it what input shape it should be expecting.\n",
        "\n",
        "Remember above, how we discussed the input shape was just one number?\n",
        "\n",
        "We can let our model know the input shape of our data using the `input_shape` parameter to the first layer (usually if `input_shape` isn't defined, Keras tries to figure it out automatically)."
      ],
      "metadata": {
        "id": "p4-MM_TWRQlT"
      }
    },
    {
      "cell_type": "code",
      "source": [
        "from os import name\n",
        "from ast import Name\n",
        "# Set random seed\n",
        "tf.random.set_seed(42)\n",
        "\n",
        "# Create a model (same as above)\n",
        "model = tf.keras.Sequential([\n",
        "  tf.keras.layers.Dense(10, input_shape=[1], name=\"input_layer\"), # define the input_shape to our model\n",
        "  tf.keras.layers.Dense(1, name= \"output_layer\"),\n",
        "\n",
        "  ], name=\"prici\")\n",
        "\n",
        "# Compile model (same as above)\n",
        "model.compile(loss=tf.keras.losses.mae,\n",
        "              optimizer=tf.keras.optimizers.SGD(),\n",
        "              metrics=[\"mae\"])"
      ],
      "metadata": {
        "id": "1y2W1VloRPaj"
      },
      "execution_count": 154,
      "outputs": []
    },
    {
      "cell_type": "code",
      "source": [
        "model.summary()"
      ],
      "metadata": {
        "colab": {
          "base_uri": "https://localhost:8080/"
        },
        "id": "JDfWqKSWRcbh",
        "outputId": "e418dc56-d4b0-47ee-c0b4-8c91c68438c0"
      },
      "execution_count": 155,
      "outputs": [
        {
          "output_type": "stream",
          "name": "stdout",
          "text": [
            "Model: \"prici\"\n",
            "_________________________________________________________________\n",
            " Layer (type)                Output Shape              Param #   \n",
            "=================================================================\n",
            " input_layer (Dense)         (None, 10)                20        \n",
            "                                                                 \n",
            " output_layer (Dense)        (None, 1)                 11        \n",
            "                                                                 \n",
            "=================================================================\n",
            "Total params: 31 (124.00 Byte)\n",
            "Trainable params: 31 (124.00 Byte)\n",
            "Non-trainable params: 0 (0.00 Byte)\n",
            "_________________________________________________________________\n"
          ]
        }
      ]
    },
    {
      "cell_type": "markdown",
      "source": [
        "Calling `summary()` on our model shows us the layers it contains, the output shape and the number of parameters.\n",
        "**Parameters**- Weight & bias.\n",
        "\n",
        "* **Total params** - total number of parameters in the model. **2 X (number of input in Desnse layer)**\n",
        "\n",
        "* **Trainable parameters** - these are the parameters (patterns) the model can update as it trains.\n",
        "* **Non-trainable parameters** - these parameters aren't updated during training (this is typical when you bring in the already learned patterns from other models during transfer learning).\n",
        "\n",
        "\n",
        "For now, all you need to think about these parameters is that their learnable patterns in the data.\n"
      ],
      "metadata": {
        "id": "ooPJGRNMWoaq"
      }
    },
    {
      "cell_type": "code",
      "source": [
        "# Fit the model\n",
        "model.fit(xtr, ytr,  epochs=100, verbose=0)"
      ],
      "metadata": {
        "id": "y8fPFi7RRfgm",
        "colab": {
          "base_uri": "https://localhost:8080/"
        },
        "outputId": "5d991a58-63fd-453a-a0b1-3aaf266b1afd"
      },
      "execution_count": 156,
      "outputs": [
        {
          "output_type": "execute_result",
          "data": {
            "text/plain": [
              "<keras.src.callbacks.History at 0x7c095c708160>"
            ]
          },
          "metadata": {},
          "execution_count": 156
        }
      ]
    },
    {
      "cell_type": "code",
      "source": [
        "model.summary()"
      ],
      "metadata": {
        "colab": {
          "base_uri": "https://localhost:8080/"
        },
        "id": "TBBQjlnVlcC4",
        "outputId": "fa41c348-02df-4f16-e7d7-7415e1f973cc"
      },
      "execution_count": 157,
      "outputs": [
        {
          "output_type": "stream",
          "name": "stdout",
          "text": [
            "Model: \"prici\"\n",
            "_________________________________________________________________\n",
            " Layer (type)                Output Shape              Param #   \n",
            "=================================================================\n",
            " input_layer (Dense)         (None, 10)                20        \n",
            "                                                                 \n",
            " output_layer (Dense)        (None, 1)                 11        \n",
            "                                                                 \n",
            "=================================================================\n",
            "Total params: 31 (124.00 Byte)\n",
            "Trainable params: 31 (124.00 Byte)\n",
            "Non-trainable params: 0 (0.00 Byte)\n",
            "_________________________________________________________________\n"
          ]
        }
      ]
    },
    {
      "cell_type": "code",
      "source": [
        "from tensorflow.keras.utils import plot_model\n",
        "plot_model(model, show_shapes=True)"
      ],
      "metadata": {
        "colab": {
          "base_uri": "https://localhost:8080/",
          "height": 312
        },
        "id": "EoN5pnq-lv06",
        "outputId": "10846abb-76ef-408a-86b3-2e2c32494e1f"
      },
      "execution_count": 158,
      "outputs": [
        {
          "output_type": "execute_result",
          "data": {
            "image/png": "[encoded data removed]",
            "text/plain": [
              "<IPython.core.display.Image object>"
            ]
          },
          "metadata": {},
          "execution_count": 158
        }
      ]
    },
    {
      "cell_type": "code",
      "source": [],
      "metadata": {
        "id": "a1WvSNghmJ5O"
      },
      "execution_count": null,
      "outputs": []
    }
  ]
}