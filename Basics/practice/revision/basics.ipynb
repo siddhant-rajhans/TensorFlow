{
 "cells": [
  {
   "cell_type": "markdown",
   "metadata": {},
   "source": [
    "**TensorFlow Fundamentals Exercises**\n",
    "=====================================\n",
    "\n",
    "1. Create a vector, scalar, matrix and tensor with values of your choosing using `tf.constant()`.\n",
    "\n",
    "2. Find the shape, rank and size of the tensors you created in 1.\n",
    "\n",
    "3. Create two tensors containing random values between 0 and 1 with shape `[5, 300]`.\n",
    "\n",
    "4. Multiply the two tensors you created in 3 using matrix multiplication.\n",
    "\n",
    "5. Multiply the two tensors you created in 3 using dot product.\n",
    "\n",
    "6. Create a tensor with random values between 0 and 1 with shape `[224, 224, 3]`.\n",
    "\n",
    "7. Find the min and max values of the tensor you created in 6 along the first axis.\n",
    "\n",
    "8. Created a tensor with random values of shape `[1, 224, 224, 3]` then squeeze it to change the shape to `[224, 224, 3]`.\n",
    "\n",
    "9. Create a tensor with shape `[10]` using your own choice of values, then find the index which has the maximum value.\n",
    "\n",
    "10. One-hot encode the tensor you created in 9."
   ]
  },
  {
   "cell_type": "markdown",
   "metadata": {},
   "source": [
    "-----------------------------------------------------------------------------------------------------\n",
    "                                                Solution                                                        "
   ]
  },
  {
   "cell_type": "code",
   "execution_count": 1,
   "metadata": {},
   "outputs": [],
   "source": [
    "import tensorflow as tf"
   ]
  },
  {
   "cell_type": "code",
   "execution_count": 2,
   "metadata": {},
   "outputs": [
    {
     "data": {
      "text/plain": [
       "(<tf.Tensor: shape=(), dtype=int32, numpy=5>,\n",
       " <tf.Tensor: shape=(4,), dtype=int32, numpy=array([1, 2, 3, 4])>,\n",
       " <tf.Tensor: shape=(2, 2), dtype=int32, numpy=\n",
       " array([[1, 2],\n",
       "        [3, 4]])>,\n",
       " <tf.Tensor: shape=(2, 2, 2), dtype=int32, numpy=\n",
       " array([[[1, 2],\n",
       "         [3, 4]],\n",
       " \n",
       "        [[5, 6],\n",
       "         [7, 8]]])>)"
      ]
     },
     "execution_count": 2,
     "metadata": {},
     "output_type": "execute_result"
    }
   ],
   "source": [
    "Scalar = tf.constant(5)\n",
    "vector = tf.constant([1,2,3,4])\n",
    "matrix = tf.constant([[1,2],[3,4]])\n",
    "tensor = tf.constant([[[1, 2], [3, 4]], [[5, 6], [7, 8]]])\n",
    "Scalar, vector , matrix, tensor"
   ]
  },
  {
   "cell_type": "code",
   "execution_count": 9,
   "metadata": {},
   "outputs": [
    {
     "name": "stdout",
     "output_type": "stream",
     "text": [
      "Scalar shape: ()\n",
      "Scalar rank: 0\n",
      "Scalar size: tf.Tensor(1, shape=(), dtype=int32)\n",
      "Vector shape: (4,)\n",
      "Vector rank: 1\n",
      "Vector size: tf.Tensor(4, shape=(), dtype=int32)\n",
      "Matrix shape: (2, 2)\n",
      "Matrix rank: 2\n",
      "Matrix size: tf.Tensor(4, shape=(), dtype=int32)\n",
      "Tensor shape: (2, 2, 2)\n",
      "Tensor rank: 3\n",
      "Tensor size: tf.Tensor(8, shape=(), dtype=int32)\n"
     ]
    }
   ],
   "source": [
    "print(\"Scalar shape:\", Scalar.shape)\n",
    "print(\"Scalar rank:\", Scalar.shape.rank)\n",
    "print(\"Scalar size:\", tf.size(Scalar))\n",
    "\n",
    "print(\"Vector shape:\", vector.shape)\n",
    "print(\"Vector rank:\", vector.shape.rank)\n",
    "print(\"Vector size:\", tf.size(vector))\n",
    "\n",
    "print(\"Matrix shape:\", matrix.shape)\n",
    "print(\"Matrix rank:\", matrix.shape.rank)\n",
    "print(\"Matrix size:\", tf.size(matrix))\n",
    "\n",
    "print(\"Tensor shape:\", tensor.shape)\n",
    "print(\"Tensor rank:\", tensor.shape.rank)\n",
    "print(\"Tensor size:\", tf.size(tensor))"
   ]
  },
  {
   "cell_type": "code",
   "execution_count": 20,
   "metadata": {},
   "outputs": [
    {
     "data": {
      "text/plain": [
       "(<tf.Tensor: shape=(5, 300), dtype=float32, numpy=\n",
       " array([[0.59520733, 0.06266105, 0.92026293, ..., 0.49019134, 0.6740171 ,\n",
       "         0.29855108],\n",
       "        [0.43805993, 0.8785441 , 0.11268973, ..., 0.83740747, 0.86660266,\n",
       "         0.65028524],\n",
       "        [0.4500463 , 0.7305137 , 0.05319834, ..., 0.64534426, 0.04847312,\n",
       "         0.14000702],\n",
       "        [0.25237334, 0.6803416 , 0.6739547 , ..., 0.6132461 , 0.38984323,\n",
       "         0.12271798],\n",
       "        [0.11355066, 0.87089074, 0.28845286, ..., 0.3735745 , 0.73592687,\n",
       "         0.23085809]], dtype=float32)>,\n",
       " <tf.Tensor: shape=(5, 300), dtype=float32, numpy=\n",
       " array([[0.39761555, 0.19161153, 0.9583901 , ..., 0.16368604, 0.24390781,\n",
       "         0.15387058],\n",
       "        [0.5393468 , 0.09327459, 0.4078697 , ..., 0.19760263, 0.21027303,\n",
       "         0.38184595],\n",
       "        [0.6575408 , 0.09120941, 0.23230982, ..., 0.11451912, 0.6841862 ,\n",
       "         0.9715229 ],\n",
       "        [0.8918413 , 0.23455107, 0.9187335 , ..., 0.17914319, 0.542997  ,\n",
       "         0.1924907 ],\n",
       "        [0.51706934, 0.61723495, 0.20275605, ..., 0.04024279, 0.9221864 ,\n",
       "         0.20364046]], dtype=float32)>)"
      ]
     },
     "execution_count": 20,
     "metadata": {},
     "output_type": "execute_result"
    }
   ],
   "source": [
    "tensor1 = tf.random.uniform([5, 300])\n",
    "tensor2 = tf.random.uniform([5, 300])\n",
    "tensor1, tensor2"
   ]
  },
  {
   "cell_type": "code",
   "execution_count": 25,
   "metadata": {},
   "outputs": [
    {
     "data": {
      "text/plain": [
       "<tf.Tensor: shape=(5, 5), dtype=float32, numpy=\n",
       "array([[80.87295 , 74.83064 , 75.15852 , 74.093094, 73.97275 ],\n",
       "       [75.27762 , 71.99204 , 72.86113 , 73.03406 , 71.72366 ],\n",
       "       [79.2313  , 71.96298 , 75.076645, 72.761566, 72.52217 ],\n",
       "       [75.96359 , 70.93398 , 72.89791 , 74.2335  , 70.70001 ],\n",
       "       [77.13995 , 70.69176 , 76.66206 , 71.60069 , 73.82054 ]],\n",
       "      dtype=float32)>"
      ]
     },
     "execution_count": 25,
     "metadata": {},
     "output_type": "execute_result"
    }
   ],
   "source": [
    "result = tf.matmul(tensor1, tf.transpose(tensor2))\n",
    "result"
   ]
  },
  {
   "cell_type": "code",
   "execution_count": 30,
   "metadata": {},
   "outputs": [],
   "source": [
    "result = tf.tensordot(tensor1, tensor2, axes=0)\n"
   ]
  },
  {
   "cell_type": "code",
   "execution_count": 31,
   "metadata": {},
   "outputs": [],
   "source": [
    "tensor = tf.random.uniform([224, 224, 3])"
   ]
  },
  {
   "cell_type": "code",
   "execution_count": 32,
   "metadata": {},
   "outputs": [],
   "source": [
    "min_value = tf.reduce_min(tensor, axis=0)\n",
    "max_value = tf.reduce_max(tensor, axis=0)"
   ]
  },
  {
   "cell_type": "code",
   "execution_count": 35,
   "metadata": {},
   "outputs": [],
   "source": [
    "tensor = tf.random.uniform([1, 224, 224, 3])\n",
    "squeezed_tensor = tf.squeeze(tensor)"
   ]
  },
  {
   "cell_type": "code",
   "execution_count": 36,
   "metadata": {},
   "outputs": [],
   "source": [
    "tensor = tf.constant([1, 2, 3, 4, 5, 6, 7, 8, 9, 10])\n",
    "max_index = tf.argmax(tensor)"
   ]
  },
  {
   "cell_type": "code",
   "execution_count": 37,
   "metadata": {},
   "outputs": [
    {
     "data": {
      "text/plain": [
       "<tf.Tensor: shape=(10, 10), dtype=float32, numpy=\n",
       "array([[0., 1., 0., 0., 0., 0., 0., 0., 0., 0.],\n",
       "       [0., 0., 1., 0., 0., 0., 0., 0., 0., 0.],\n",
       "       [0., 0., 0., 1., 0., 0., 0., 0., 0., 0.],\n",
       "       [0., 0., 0., 0., 1., 0., 0., 0., 0., 0.],\n",
       "       [0., 0., 0., 0., 0., 1., 0., 0., 0., 0.],\n",
       "       [0., 0., 0., 0., 0., 0., 1., 0., 0., 0.],\n",
       "       [0., 0., 0., 0., 0., 0., 0., 1., 0., 0.],\n",
       "       [0., 0., 0., 0., 0., 0., 0., 0., 1., 0.],\n",
       "       [0., 0., 0., 0., 0., 0., 0., 0., 0., 1.],\n",
       "       [0., 0., 0., 0., 0., 0., 0., 0., 0., 0.]], dtype=float32)>"
      ]
     },
     "execution_count": 37,
     "metadata": {},
     "output_type": "execute_result"
    }
   ],
   "source": [
    "one_hot_tensor = tf.one_hot(tensor, depth=10)\n",
    "one_hot_tensor"
   ]
  },
  {
   "cell_type": "code",
   "execution_count": null,
   "metadata": {},
   "outputs": [],
   "source": []
  }
 ],
 "metadata": {
  "kernelspec": {
   "display_name": "ml",
   "language": "python",
   "name": "python3"
  },
  "language_info": {
   "codemirror_mode": {
    "name": "ipython",
    "version": 3
   },
   "file_extension": ".py",
   "mimetype": "text/x-python",
   "name": "python",
   "nbconvert_exporter": "python",
   "pygments_lexer": "ipython3",
   "version": "3.12.3"
  }
 },
 "nbformat": 4,
 "nbformat_minor": 2
}
